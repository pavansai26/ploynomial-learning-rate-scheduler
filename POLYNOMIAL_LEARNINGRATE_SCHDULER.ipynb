{
  "nbformat": 4,
  "nbformat_minor": 0,
  "metadata": {
    "colab": {
      "name": "POLYNOMIAL LEARNINGRATE SCHDULER.ipynb",
      "provenance": [],
      "authorship_tag": "ABX9TyMkMniYaJz9bAWHsWIYL68F",
      "include_colab_link": true
    },
    "kernelspec": {
      "name": "python3",
      "display_name": "Python 3"
    }
  },
  "cells": [
    {
      "cell_type": "markdown",
      "metadata": {
        "id": "view-in-github",
        "colab_type": "text"
      },
      "source": [
        "<a href=\"https://colab.research.google.com/github/pavansai26/ploynomial-learning-rate-scheduler/blob/master/POLYNOMIAL_LEARNINGRATE_SCHDULER.ipynb\" target=\"_parent\"><img src=\"https://colab.research.google.com/assets/colab-badge.svg\" alt=\"Open In Colab\"/></a>"
      ]
    },
    {
      "cell_type": "code",
      "metadata": {
        "id": "IEwPZJX5P96x",
        "colab_type": "code",
        "colab": {}
      },
      "source": [
        "import numpy as np\n",
        "import matplotlib.pyplot as plt"
      ],
      "execution_count": null,
      "outputs": []
    },
    {
      "cell_type": "markdown",
      "metadata": {
        "id": "sAAxacl_SgkY",
        "colab_type": "text"
      },
      "source": [
        "formula"
      ]
    },
    {
      "cell_type": "markdown",
      "metadata": {
        "id": "kn8lwjm9RPY2",
        "colab_type": "text"
      },
      "source": [
        "$\\eta_{E + 1}$= $\\eta_{I}$ * (1-t/t_max) ^k"
      ]
    },
    {
      "cell_type": "markdown",
      "metadata": {
        "id": "WFC6LWhrTlvI",
        "colab_type": "text"
      },
      "source": [
        "$\\eta_{I}$ is the initial learning rate\n",
        "\n",
        "t is the epoch\n",
        "\n",
        "t_max is the max epochs\n",
        "\n",
        "k is power value"
      ]
    },
    {
      "cell_type": "markdown",
      "metadata": {
        "id": "xYuoJt8LauAe",
        "colab_type": "text"
      },
      "source": [
        "implementation"
      ]
    },
    {
      "cell_type": "code",
      "metadata": {
        "id": "rvKiDODpQVm8",
        "colab_type": "code",
        "colab": {}
      },
      "source": [
        "class PolynomialDecay():\n",
        "  def __init__ (self,t_max=100,eta_start=0.01,k=2):\n",
        "    self.t_max = t_max\n",
        "    self.eta_start = eta_start\n",
        "    self.k = k\n",
        "  \n",
        "  def __call__ (self,epoch):\n",
        "    exp = (1-(epoch/self.t_max))**self.k\n",
        "    eta = self.eta_start *exp\n",
        "\n",
        "    return float(eta)"
      ],
      "execution_count": null,
      "outputs": []
    },
    {
      "cell_type": "markdown",
      "metadata": {
        "id": "x5Jy01lSaxjB",
        "colab_type": "text"
      },
      "source": [
        "visualization"
      ]
    },
    {
      "cell_type": "code",
      "metadata": {
        "id": "Aj_p298xZ-S5",
        "colab_type": "code",
        "colab": {}
      },
      "source": [
        "num_epochs = 50\n",
        "scheduler = PolynomialDecay()\n",
        "plt.plot(np.arange(num_epochs),[scheduler(i) for i in range(num_epochs)])"
      ],
      "execution_count": null,
      "outputs": []
    },
    {
      "cell_type": "code",
      "metadata": {
        "id": "0Il9J56gaQ2h",
        "colab_type": "code",
        "colab": {}
      },
      "source": [
        "class PolynomialDecay():\n",
        "  def __init__ (self,t_max=100,eta_start=0.01,k=5):\n",
        "    self.t_max = t_max\n",
        "    self.eta_start = eta_start\n",
        "    self.k = k\n",
        "  \n",
        "  def __call__ (self,epoch):\n",
        "    exp = (1-(epoch/self.t_max))**self.k\n",
        "    eta = self.eta_start *exp\n",
        "\n",
        "    return float(eta)"
      ],
      "execution_count": null,
      "outputs": []
    },
    {
      "cell_type": "code",
      "metadata": {
        "id": "V-vNc12mafoF",
        "colab_type": "code",
        "colab": {}
      },
      "source": [
        "num_epochs = 50\n",
        "scheduler = PolynomialDecay()\n",
        "plt.plot(np.arange(num_epochs),[scheduler(i) for i in range(num_epochs)])"
      ],
      "execution_count": null,
      "outputs": []
    },
    {
      "cell_type": "code",
      "metadata": {
        "id": "wo8JP5SmajSG",
        "colab_type": "code",
        "colab": {}
      },
      "source": [
        ""
      ],
      "execution_count": null,
      "outputs": []
    }
  ]
}